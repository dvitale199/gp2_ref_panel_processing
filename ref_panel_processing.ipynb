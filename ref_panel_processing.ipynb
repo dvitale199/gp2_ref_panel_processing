{
 "cells": [
  {
   "cell_type": "code",
   "execution_count": 1,
   "metadata": {},
   "outputs": [],
   "source": [
    "import pandas as pd\n",
    "import subprocess\n",
    "import sys\n",
    "import matplotlib.pyplot as plt\n",
    "from matplotlib import cm \n",
    "import numpy as np\n"
   ]
  },
  {
   "cell_type": "code",
   "execution_count": 2,
   "metadata": {},
   "outputs": [],
   "source": [
    "def shell_do(command, log=False, return_log=False):\n",
    "    print(f'Executing: {(\" \").join(command.split())}', file=sys.stderr)\n",
    "\n",
    "    res=subprocess.run(command.split(), stdout=subprocess.PIPE)\n",
    "\n",
    "    if log:\n",
    "        print(res.stdout.decode('utf-8'))\n",
    "    if return_log:\n",
    "        return(res.stdout.decode('utf-8'))"
   ]
  },
  {
   "cell_type": "code",
   "execution_count": 3,
   "metadata": {},
   "outputs": [],
   "source": [
    "ref_dir_path = f'/data/LNG/vitaled2/1kgenomes'\n",
    "ashk_data = f'/data/LNG/iwakih2/dataset/Jew/GSE23636'\n",
    "onekg_demog_path = f'{ref_dir_path}/igsr_samples.tsv'\n",
    "out_ancestry_file = f'{ref_dir_path}/ref_panel_ancestry.txt'\n",
    "ref_panel = f'{ref_dir_path}/1kg_ashkj_ref_panel'"
   ]
  },
  {
   "cell_type": "code",
   "execution_count": 4,
   "metadata": {},
   "outputs": [],
   "source": [
    "# first, create list of Ashkenazis by FID and IID\n",
    "ashk = pd.read_csv(f'{ashk_data}.fam', header=None, sep=' ')\n",
    "\n",
    "# add ashkenazis with labels to df\n",
    "ancestry = pd.DataFrame()\n",
    "ancestry[['FID','IID']], ancestry['label'] = ashk[[0,1]], 'AJ'\n"
   ]
  },
  {
   "cell_type": "code",
   "execution_count": null,
   "metadata": {},
   "outputs": [],
   "source": []
  },
  {
   "cell_type": "code",
   "execution_count": 8,
   "metadata": {},
   "outputs": [],
   "source": [
    "# read 1kG and label \n",
    "onekg_demog = pd.read_csv(onekg_demog_path, sep='\\t')\n",
    "onekg_demog['FID'], onekg_demog['IID'] = onekg_demog['Sample name'], onekg_demog['Sample name']\n",
    "onekg_demog['label'] = onekg_demog['Superpopulation code']\n",
    "\n",
    "# create separate label for African American (ASW) and Caribbean (ACB) label to AAC to match Neuro+\n",
    "onekg_demog.loc[(onekg_demog['Population code'] == 'ASW') | (onekg_demog['Population code'] == 'ACB'), 'label'] = 'AAC'\n",
    "\n",
    "# create separate label for Finnish (FIN) to match Neuro+\n",
    "onekg_demog.loc[onekg_demog['Population code'] == 'FIN', 'label'] = 'FIN'\n",
    "onekg_demog.label.unique()\n",
    "ref_fam = pd.read_csv(f'{ref_panel}.fam', header=None, sep=' ')\n",
    "ref_fam.rename(columns={0:'FID',1:'IID'}, inplace=True)\n",
    "onekg_demog = ref_fam.merge(onekg_demog, how='left', on=['FID','IID'])\n"
   ]
  },
  {
   "cell_type": "code",
   "execution_count": 9,
   "metadata": {},
   "outputs": [
    {
     "name": "stdout",
     "output_type": "stream",
     "text": [
      "Counts per population code in 1kG\n",
      "MXL 64\n",
      "CLM 94\n",
      "PEL 85\n",
      "PUR 104\n",
      "JPT 104\n",
      "CDX 93\n",
      "CHB 103\n",
      "CHS 105\n",
      "KHV 99\n",
      "CHD 0\n",
      "TSI 107\n",
      "IBS 107\n",
      "GBR 91\n",
      "CEU 99\n",
      "AJ 0\n",
      "FIN 99\n",
      "PJL 96\n",
      "ITU 102\n",
      "STU 102\n",
      "GIH 103\n",
      "BEB 86\n",
      "GWD 113\n",
      "MSL 85\n",
      "ESN 99\n",
      "GWJ 0\n",
      "YRI 108\n",
      "LWK 99\n",
      "GWF 0\n",
      "GWW 0\n",
      "ASW 61\n",
      "ACB 96\n",
      "Total across population codes in 1kG: 2504\n",
      "\n",
      "\n",
      "Counts per superpopulation code in 1kG + Ashkenazi\n",
      "EAS    504\n",
      "AFR    504\n",
      "SAS    489\n",
      "AJ     471\n",
      "EUR    404\n",
      "AMR    347\n",
      "AAC    157\n",
      "FIN     99\n",
      "Name: label, dtype: int64\n",
      "Total across superpopulation codes in 1kG + Ashkenazi: 2975\n"
     ]
    }
   ],
   "source": [
    "# check if all populations in GP2 are present Add Ashkenazi (AJ)\n",
    "#figure out the situation with CHD\n",
    "pop_dict = {\n",
    "    'AMR': ['MXL','CLM','PEL','PUR'],\n",
    "    'EAS': ['JPT','CDX','CHB','CHS','KHV','CHD'],\n",
    "    'EUR': ['TSI','IBS','GBR','CEU', 'AJ', 'FIN'],\n",
    "    'SAS': ['PJL','ITU','STU','GIH','BEB'],\n",
    "    'AFR': ['GWD','MSL','ESN','GWJ','YRI','LWK','GWF','GWW'],\n",
    "    'AAC': ['ASW','ACB']\n",
    "}\n",
    "\n",
    "pop_list = [pop for poplist in [pop for supergroup, pop in pop_dict.items()] for pop in poplist]\n",
    "\n",
    "print('Counts per population code in 1kG')\n",
    "total = 0\n",
    "for pop in pop_list:\n",
    "    count = (onekg_demog['Population code'] == pop).sum()\n",
    "    print(pop, count)\n",
    "    total += count\n",
    "    \n",
    "print(f'Total across population codes in 1kG: {total}')\n",
    "print()\n",
    "# keep only onekg_demog populations that are in population list (pops in neuro+ chip, given by GP2)\n",
    "onekg_demog = onekg_demog.loc[onekg_demog['Population code'].isin(pop_list)]\n",
    "\n",
    "#append onekg_demog to ancestry\n",
    "ancestry_final = ancestry.append(onekg_demog[['FID','IID','label']], ignore_index=True)\n",
    "ancestry_final.to_csv(out_ancestry_file, header=False, index=False, sep='\\t')\n",
    "ancestry_final[['FID','IID']].to_csv(f'{ref_dir_path}/gp2_keep.txt', sep='\\t', header=None, index=None)\n",
    "print()\n",
    "print('Counts per superpopulation code in 1kG + Ashkenazi')\n",
    "print(ancestry_final.label.value_counts(dropna=False))\n",
    "print(f'Total across superpopulation codes in 1kG + Ashkenazi: {ancestry_final.label.value_counts(dropna=False).sum()}')"
   ]
  },
  {
   "cell_type": "code",
   "execution_count": 10,
   "metadata": {},
   "outputs": [],
   "source": [
    "bim = pd.read_csv(f'{ref_panel}.bim', sep='\\t', header=None)\n",
    "\n",
    "# find and drop palindromes in ref panel bim file\n",
    "bim.columns = ['chr', 'rsid', 'kb', 'pos', 'a1', 'a2']\n",
    "palindromes = bim.loc[((bim.a1 == 'A') & (bim.a2 == 'T')) | ((bim.a1 == 'T') & (bim.a2 == 'A')) | ((bim.a1 == 'C') & (bim.a2 == 'G')) | ((bim.a1 == 'G') & (bim.a2 == 'C'))]\n",
    "palindromes['rsid'].to_csv(f'{ref_panel}_palindromes.snplist', header=False, index=False, sep='\\t')"
   ]
  },
  {
   "cell_type": "code",
   "execution_count": 11,
   "metadata": {},
   "outputs": [],
   "source": [
    "ref_panel_prune1 = f'{ref_panel}_maf_geno_hwe'\n",
    "# ref_panel_prune2 = f'{ref_panel}_gp2_pruned'\n",
    "ref_panel_prune_final = f'{ref_panel}_gp2_pruned'\n",
    "\n",
    "plink_cmd1 = f'plink --bfile {ref_panel}\\\n",
    " --maf 0.05\\\n",
    " --geno 0.01\\\n",
    " --hwe 0.0001\\\n",
    " --exclude {ref_panel}_palindromes.snplist\\\n",
    " --autosome\\\n",
    " --keep {ref_dir_path}/gp2_keep.txt\\\n",
    " --make-bed\\\n",
    " --out {ref_panel_prune1}' \n",
    "\n",
    "plink_cmd2 = f'plink --bfile {ref_panel_prune1}\\\n",
    " --exclude range {ref_dir_path}/hg19_exclusion_regions.txt\\\n",
    " --autosome\\\n",
    " --out {ref_panel_prune_final}'\n",
    "\n",
    "cmds = [plink_cmd1, plink_cmd2]\n",
    "\n",
    "# for cmd in cmds:\n",
    "#     shell_do(cmd)\n",
    "    \n",
    "# plink_cmd2 = f'plink --bfile {ref_panel_prune1}\\\n",
    "#  --indep-pairwise 1000 50 0.05\\\n",
    "#  --exclude range {ref_dir_path}/hg19_exclusion_regions.txt\\\n",
    "#  --autosome\\\n",
    "#  --out {ref_dir_path}/pruned_data'\n",
    "\n",
    "# plink_cmd3 = f'plink --bfile {ref_panel_prune1}\\\n",
    "#  --extract {ref_dir_path}/pruned_data.prune.in\\\n",
    "#  --make-bed\\\n",
    "#  --out {ref_panel_prune_final}'\n",
    "\n",
    "# cmds = [plink_cmd1, plink_cmd2, plink_cmd3]"
   ]
  },
  {
   "cell_type": "code",
   "execution_count": null,
   "metadata": {},
   "outputs": [],
   "source": []
  },
  {
   "cell_type": "code",
   "execution_count": 12,
   "metadata": {},
   "outputs": [],
   "source": [
    "# randomly sample 10,000 snps for ancestry\n",
    "bim2 = pd.read_csv(f'{ref_panel_prune_final}.bim', sep='\\t', header=None)\n",
    "ref_panel_random_sample = bim2.sample(10000, random_state=123)\n",
    "# ref_panel_random_sample.to_csv(f'{ref_panel_prune_final}_random_sample.snplist', header=False, index=False, sep='\\t')\n",
    "\n",
    "ref_panel_10k_random_sample = f'{ref_panel_prune_final}_10k_random_sample'\n",
    "\n",
    "rand_sample_cmd = f'plink --bfile {ref_panel_prune_final}\\\n",
    " --extract {ref_panel_prune_final}_random_sample.snplist\\\n",
    " --autosome\\\n",
    " --make-bed\\\n",
    " --out {ref_panel_10k_random_sample}'\n",
    "\n",
    "# shell_do(rand_sample_cmd)"
   ]
  },
  {
   "cell_type": "code",
   "execution_count": 11,
   "metadata": {},
   "outputs": [
    {
     "name": "stderr",
     "output_type": "stream",
     "text": [
      "Executing: plink --bfile /data/LNG/vitaled2/1kgenomes/1kg_ashkj_ref_panel_gp2_pruned_10k_random_sample --out /data/LNG/vitaled2/1kgenomes/1kg_ashkj_ref_panel_gp2_pruned_10k_random_sample_pca --make-bed --pca 8\n"
     ]
    }
   ],
   "source": [
    "# pca for ref panel ONLY\n",
    "# ref_panel_pca_cmd = f\"plink --bfile {ref_panel_10k_random_sample} --out {ref_panel_10k_random_sample}_pca --make-bed --pca 8\"\n",
    "# shell_do(ref_panel_pca_cmd)"
   ]
  },
  {
   "cell_type": "code",
   "execution_count": 13,
   "metadata": {},
   "outputs": [],
   "source": [
    "# run pca with flashpca and output meansd\n",
    "# first, get snps and ref alleles for projection of new samples onto old pcs\n",
    "# rand_samp_bim = pd.read_csv(f'{ref_panel_10k_random_sample}.bim', header=None, sep='\\t')\n",
    "# rand_samp_bim[[1,4]].to_csv(f'{ref_panel_10k_random_sample}.ref_allele', sep='\\t', header=False, index=False)\n",
    "\n",
    "def flash_pca(geno_path, out_name, dim=8):\n",
    "    flashpca_cmd = f'\\\n",
    "    flashpca --bfile {geno_path}\\\n",
    "     -d {dim}\\\n",
    "     --outpc {out_name}.pcs\\\n",
    "     --outvec {out_name}.vec\\\n",
    "     --outval {out_name}.val\\\n",
    "     --outpve {out_name}.pve\\\n",
    "     --outload {out_name}.loadings\\\n",
    "     --outmeansd {out_name}.meansd'\n",
    "    \n",
    "    shell_do(flashpca_cmd)\n",
    "    \n",
    "# flash_pca(ref_panel_prune_final, ref_panel_prune_final)\n",
    "\n",
    "# run pca\n",
    "# flashpca_cmd = f'\\\n",
    "# flashpca --bfile {ref_panel_10k_random_sample}\\\n",
    "#  -d 8\\\n",
    "#  --outpc {ref_panel_10k_random_sample}.pcs\\\n",
    "#  --outvec {ref_panel_10k_random_sample}.vec\\\n",
    "#  --outval {ref_panel_10k_random_sample}.val\\\n",
    "#  --outpve {ref_panel_10k_random_sample}.pve\\\n",
    "#  --outload {ref_panel_10k_random_sample}.loadings\\\n",
    "#  --outmeansd {ref_panel_10k_random_sample}.meansd'\n",
    "        \n",
    "# shell_do(flashpca_cmd)"
   ]
  },
  {
   "cell_type": "code",
   "execution_count": 18,
   "metadata": {},
   "outputs": [
    {
     "data": {
      "text/html": [
       "<div>\n",
       "<style scoped>\n",
       "    .dataframe tbody tr th:only-of-type {\n",
       "        vertical-align: middle;\n",
       "    }\n",
       "\n",
       "    .dataframe tbody tr th {\n",
       "        vertical-align: top;\n",
       "    }\n",
       "\n",
       "    .dataframe thead th {\n",
       "        text-align: right;\n",
       "    }\n",
       "</style>\n",
       "<table border=\"1\" class=\"dataframe\">\n",
       "  <thead>\n",
       "    <tr style=\"text-align: right;\">\n",
       "      <th></th>\n",
       "      <th>FID</th>\n",
       "      <th>IID</th>\n",
       "      <th>label</th>\n",
       "    </tr>\n",
       "  </thead>\n",
       "  <tbody>\n",
       "    <tr>\n",
       "      <th>114</th>\n",
       "      <td>AJ</td>\n",
       "      <td>RP1C2</td>\n",
       "      <td>AJ</td>\n",
       "    </tr>\n",
       "  </tbody>\n",
       "</table>\n",
       "</div>"
      ],
      "text/plain": [
       "    FID    IID label\n",
       "114  AJ  RP1C2    AJ"
      ]
     },
     "execution_count": 18,
     "metadata": {},
     "output_type": "execute_result"
    }
   ],
   "source": [
    "ancestry_final[ancestry_final.IID == 'RP1C2']"
   ]
  },
  {
   "cell_type": "code",
   "execution_count": 19,
   "metadata": {},
   "outputs": [
    {
     "name": "stderr",
     "output_type": "stream",
     "text": [
      "*c* argument looks like a single numeric RGB or RGBA sequence, which should be avoided as value-mapping will have precedence in case its length matches with *x* & *y*.  Please use the *color* keyword-argument or provide a 2-D array with a single row if you intend to specify the same RGB or RGBA value for all points.\n",
      "*c* argument looks like a single numeric RGB or RGBA sequence, which should be avoided as value-mapping will have precedence in case its length matches with *x* & *y*.  Please use the *color* keyword-argument or provide a 2-D array with a single row if you intend to specify the same RGB or RGBA value for all points.\n",
      "*c* argument looks like a single numeric RGB or RGBA sequence, which should be avoided as value-mapping will have precedence in case its length matches with *x* & *y*.  Please use the *color* keyword-argument or provide a 2-D array with a single row if you intend to specify the same RGB or RGBA value for all points.\n",
      "*c* argument looks like a single numeric RGB or RGBA sequence, which should be avoided as value-mapping will have precedence in case its length matches with *x* & *y*.  Please use the *color* keyword-argument or provide a 2-D array with a single row if you intend to specify the same RGB or RGBA value for all points.\n",
      "*c* argument looks like a single numeric RGB or RGBA sequence, which should be avoided as value-mapping will have precedence in case its length matches with *x* & *y*.  Please use the *color* keyword-argument or provide a 2-D array with a single row if you intend to specify the same RGB or RGBA value for all points.\n",
      "*c* argument looks like a single numeric RGB or RGBA sequence, which should be avoided as value-mapping will have precedence in case its length matches with *x* & *y*.  Please use the *color* keyword-argument or provide a 2-D array with a single row if you intend to specify the same RGB or RGBA value for all points.\n",
      "*c* argument looks like a single numeric RGB or RGBA sequence, which should be avoided as value-mapping will have precedence in case its length matches with *x* & *y*.  Please use the *color* keyword-argument or provide a 2-D array with a single row if you intend to specify the same RGB or RGBA value for all points.\n",
      "*c* argument looks like a single numeric RGB or RGBA sequence, which should be avoided as value-mapping will have precedence in case its length matches with *x* & *y*.  Please use the *color* keyword-argument or provide a 2-D array with a single row if you intend to specify the same RGB or RGBA value for all points.\n"
     ]
    },
    {
     "name": "stdout",
     "output_type": "stream",
     "text": [
      "EAS    504\n",
      "AFR    504\n",
      "SAS    489\n",
      "AJ     471\n",
      "EUR    404\n",
      "AMR    347\n",
      "AAC    157\n",
      "FIN     99\n",
      "Name: label, dtype: int64\n"
     ]
    },
    {
     "data": {
      "image/png": "[encoded data removed]",
      "text/plain": [
       "<Figure size 576x576 with 1 Axes>"
      ]
     },
     "metadata": {
      "needs_background": "light"
     },
     "output_type": "display_data"
    }
   ],
   "source": [
    "pruned_ref_fam = pd.read_csv(f'{ref_panel_prune_final}.fam', sep=' ', header=None)\n",
    "total_pruned_ref_df = pruned_ref_fam.merge(ancestry_final, how='left', left_on=[0,1], right_on=['FID','IID'])\n",
    "total_pruned_ref_df.label.value_counts()\n",
    "total_pruned_ref_df\n",
    "\n",
    "pca = pd.read_csv(f'{ref_panel_prune_final}.pcs', sep='\\t')\n",
    "\n",
    "# pca['FID'], pca['IID'] = pca['FID'].astype('str').str.lower(), pca['IID'].astype('str').str.lower()\n",
    "# plate_labeled = plate.merge(combined_labels, how='left', on=['FID','IID'])\n",
    "\n",
    "# combined_labels\n",
    "labeled_pca = pca.merge(total_pruned_ref_df, how='left', on=['FID','IID'])\n",
    "print(labeled_pca.label.value_counts())\n",
    "\n",
    "def plot_pcs(labeled_pcs_df):\n",
    "    # now plot PCs\n",
    "    fig = plt.figure(figsize = (8,8))\n",
    "    ax = fig.add_subplot(1,1,1) \n",
    "    ax.set_xlabel('Principal Component 1', fontsize = 15)\n",
    "    ax.set_ylabel('Principal Component 2', fontsize = 15)\n",
    "    ax.set_title('2 component PCA', fontsize = 20)\n",
    "    cmap = cm.get_cmap('tab10')\n",
    "    targets = list(labeled_pcs_df.label.unique())\n",
    "    # targets = ['new', 'EUR']\n",
    "    colors = cmap(np.linspace(0, 1, len(targets)))\n",
    "    for target, color in zip(targets,colors):\n",
    "        indicesToKeep = labeled_pcs_df['label'] == target\n",
    "        ax.scatter(labeled_pcs_df.loc[indicesToKeep, 'PC1']\n",
    "                   , labeled_pcs_df.loc[indicesToKeep, 'PC2']\n",
    "                   , c = color\n",
    "                   , s = 50)\n",
    "    ax.legend(targets)\n",
    "    ax.grid()\n",
    "    \n",
    "plot_pcs(labeled_pca)"
   ]
  },
  {
   "cell_type": "code",
   "execution_count": 21,
   "metadata": {},
   "outputs": [
    {
     "data": {
      "text/html": [
       "<div>\n",
       "<style scoped>\n",
       "    .dataframe tbody tr th:only-of-type {\n",
       "        vertical-align: middle;\n",
       "    }\n",
       "\n",
       "    .dataframe tbody tr th {\n",
       "        vertical-align: top;\n",
       "    }\n",
       "\n",
       "    .dataframe thead th {\n",
       "        text-align: right;\n",
       "    }\n",
       "</style>\n",
       "<table border=\"1\" class=\"dataframe\">\n",
       "  <thead>\n",
       "    <tr style=\"text-align: right;\">\n",
       "      <th></th>\n",
       "      <th>0</th>\n",
       "      <th>1</th>\n",
       "      <th>2</th>\n",
       "      <th>3</th>\n",
       "      <th>4</th>\n",
       "      <th>5</th>\n",
       "      <th>FID</th>\n",
       "      <th>IID</th>\n",
       "      <th>label</th>\n",
       "    </tr>\n",
       "  </thead>\n",
       "  <tbody>\n",
       "    <tr>\n",
       "      <th>419</th>\n",
       "      <td>AJ</td>\n",
       "      <td>RP1C2</td>\n",
       "      <td>0</td>\n",
       "      <td>0</td>\n",
       "      <td>2</td>\n",
       "      <td>1</td>\n",
       "      <td>AJ</td>\n",
       "      <td>RP1C2</td>\n",
       "      <td>AJ</td>\n",
       "    </tr>\n",
       "  </tbody>\n",
       "</table>\n",
       "</div>"
      ],
      "text/plain": [
       "      0      1  2  3  4  5 FID    IID label\n",
       "419  AJ  RP1C2  0  0  2  1  AJ  RP1C2    AJ"
      ]
     },
     "execution_count": 21,
     "metadata": {},
     "output_type": "execute_result"
    }
   ],
   "source": [
    "total_pruned_ref_df[total_pruned_ref_df[1] == 'RP1C2']"
   ]
  },
  {
   "cell_type": "code",
   "execution_count": null,
   "metadata": {},
   "outputs": [],
   "source": []
  },
  {
   "cell_type": "code",
   "execution_count": 12,
   "metadata": {},
   "outputs": [
    {
     "data": {
      "text/html": [
       "<div>\n",
       "<style scoped>\n",
       "    .dataframe tbody tr th:only-of-type {\n",
       "        vertical-align: middle;\n",
       "    }\n",
       "\n",
       "    .dataframe tbody tr th {\n",
       "        vertical-align: top;\n",
       "    }\n",
       "\n",
       "    .dataframe thead th {\n",
       "        text-align: right;\n",
       "    }\n",
       "</style>\n",
       "<table border=\"1\" class=\"dataframe\">\n",
       "  <thead>\n",
       "    <tr style=\"text-align: right;\">\n",
       "      <th></th>\n",
       "      <th>0</th>\n",
       "      <th>1</th>\n",
       "      <th>2</th>\n",
       "      <th>3</th>\n",
       "      <th>4</th>\n",
       "      <th>5</th>\n",
       "      <th>FID</th>\n",
       "      <th>IID</th>\n",
       "      <th>label</th>\n",
       "    </tr>\n",
       "  </thead>\n",
       "  <tbody>\n",
       "    <tr>\n",
       "      <th>0</th>\n",
       "      <td>AJ</td>\n",
       "      <td>1A2</td>\n",
       "      <td>0</td>\n",
       "      <td>0</td>\n",
       "      <td>1</td>\n",
       "      <td>1</td>\n",
       "      <td>AJ</td>\n",
       "      <td>1A2</td>\n",
       "      <td>AJ</td>\n",
       "    </tr>\n",
       "    <tr>\n",
       "      <th>1</th>\n",
       "      <td>AJ</td>\n",
       "      <td>1A3</td>\n",
       "      <td>0</td>\n",
       "      <td>0</td>\n",
       "      <td>2</td>\n",
       "      <td>1</td>\n",
       "      <td>AJ</td>\n",
       "      <td>1A3</td>\n",
       "      <td>AJ</td>\n",
       "    </tr>\n",
       "    <tr>\n",
       "      <th>2</th>\n",
       "      <td>AJ</td>\n",
       "      <td>1A5</td>\n",
       "      <td>0</td>\n",
       "      <td>0</td>\n",
       "      <td>1</td>\n",
       "      <td>1</td>\n",
       "      <td>AJ</td>\n",
       "      <td>1A5</td>\n",
       "      <td>AJ</td>\n",
       "    </tr>\n",
       "    <tr>\n",
       "      <th>3</th>\n",
       "      <td>AJ</td>\n",
       "      <td>1A6</td>\n",
       "      <td>0</td>\n",
       "      <td>0</td>\n",
       "      <td>2</td>\n",
       "      <td>1</td>\n",
       "      <td>AJ</td>\n",
       "      <td>1A6</td>\n",
       "      <td>AJ</td>\n",
       "    </tr>\n",
       "    <tr>\n",
       "      <th>4</th>\n",
       "      <td>AJ</td>\n",
       "      <td>1A8</td>\n",
       "      <td>0</td>\n",
       "      <td>0</td>\n",
       "      <td>1</td>\n",
       "      <td>1</td>\n",
       "      <td>AJ</td>\n",
       "      <td>1A8</td>\n",
       "      <td>AJ</td>\n",
       "    </tr>\n",
       "    <tr>\n",
       "      <th>...</th>\n",
       "      <td>...</td>\n",
       "      <td>...</td>\n",
       "      <td>...</td>\n",
       "      <td>...</td>\n",
       "      <td>...</td>\n",
       "      <td>...</td>\n",
       "      <td>...</td>\n",
       "      <td>...</td>\n",
       "      <td>...</td>\n",
       "    </tr>\n",
       "    <tr>\n",
       "      <th>2970</th>\n",
       "      <td>NA21137</td>\n",
       "      <td>NA21137</td>\n",
       "      <td>0</td>\n",
       "      <td>0</td>\n",
       "      <td>0</td>\n",
       "      <td>-9</td>\n",
       "      <td>NA21137</td>\n",
       "      <td>NA21137</td>\n",
       "      <td>SAS</td>\n",
       "    </tr>\n",
       "    <tr>\n",
       "      <th>2971</th>\n",
       "      <td>NA21141</td>\n",
       "      <td>NA21141</td>\n",
       "      <td>0</td>\n",
       "      <td>0</td>\n",
       "      <td>0</td>\n",
       "      <td>-9</td>\n",
       "      <td>NA21141</td>\n",
       "      <td>NA21141</td>\n",
       "      <td>SAS</td>\n",
       "    </tr>\n",
       "    <tr>\n",
       "      <th>2972</th>\n",
       "      <td>NA21142</td>\n",
       "      <td>NA21142</td>\n",
       "      <td>0</td>\n",
       "      <td>0</td>\n",
       "      <td>0</td>\n",
       "      <td>-9</td>\n",
       "      <td>NA21142</td>\n",
       "      <td>NA21142</td>\n",
       "      <td>SAS</td>\n",
       "    </tr>\n",
       "    <tr>\n",
       "      <th>2973</th>\n",
       "      <td>NA21143</td>\n",
       "      <td>NA21143</td>\n",
       "      <td>0</td>\n",
       "      <td>0</td>\n",
       "      <td>0</td>\n",
       "      <td>-9</td>\n",
       "      <td>NA21143</td>\n",
       "      <td>NA21143</td>\n",
       "      <td>SAS</td>\n",
       "    </tr>\n",
       "    <tr>\n",
       "      <th>2974</th>\n",
       "      <td>NA21144</td>\n",
       "      <td>NA21144</td>\n",
       "      <td>0</td>\n",
       "      <td>0</td>\n",
       "      <td>0</td>\n",
       "      <td>-9</td>\n",
       "      <td>NA21144</td>\n",
       "      <td>NA21144</td>\n",
       "      <td>SAS</td>\n",
       "    </tr>\n",
       "  </tbody>\n",
       "</table>\n",
       "<p>2975 rows × 9 columns</p>\n",
       "</div>"
      ],
      "text/plain": [
       "            0        1  2  3  4  5      FID      IID label\n",
       "0          AJ      1A2  0  0  1  1       AJ      1A2    AJ\n",
       "1          AJ      1A3  0  0  2  1       AJ      1A3    AJ\n",
       "2          AJ      1A5  0  0  1  1       AJ      1A5    AJ\n",
       "3          AJ      1A6  0  0  2  1       AJ      1A6    AJ\n",
       "4          AJ      1A8  0  0  1  1       AJ      1A8    AJ\n",
       "...       ...      ... .. .. .. ..      ...      ...   ...\n",
       "2970  NA21137  NA21137  0  0  0 -9  NA21137  NA21137   SAS\n",
       "2971  NA21141  NA21141  0  0  0 -9  NA21141  NA21141   SAS\n",
       "2972  NA21142  NA21142  0  0  0 -9  NA21142  NA21142   SAS\n",
       "2973  NA21143  NA21143  0  0  0 -9  NA21143  NA21143   SAS\n",
       "2974  NA21144  NA21144  0  0  0 -9  NA21144  NA21144   SAS\n",
       "\n",
       "[2975 rows x 9 columns]"
      ]
     },
     "execution_count": 12,
     "metadata": {},
     "output_type": "execute_result"
    }
   ],
   "source": [
    "# pruned_ref_fam = pd.read_csv(f'{ref_panel_prune_final}.fam', sep=' ', header=None)\n",
    "# total_pruned_ref_df = pruned_ref_fam.merge(ancestry_final, how='left', left_on=[0,1], right_on=['FID','IID'])\n",
    "# total_pruned_ref_df.label.value_counts()\n",
    "# total_pruned_ref_df"
   ]
  },
  {
   "cell_type": "code",
   "execution_count": 13,
   "metadata": {},
   "outputs": [],
   "source": [
    "# pca_path = f'{ref_panel_10k_random_sample}_pca.eigenvec'\n",
    "# pca = pd.read_csv(pca_path, sep=' ', header=None)\n",
    "# pca_columns = ['FID','IID'] + [f\"pc{i-1}\" for i in range(2,len(pca.columns))]\n",
    "# pca.columns = pca_columns"
   ]
  },
  {
   "cell_type": "code",
   "execution_count": 14,
   "metadata": {},
   "outputs": [
    {
     "name": "stdout",
     "output_type": "stream",
     "text": [
      "AFR    504\n",
      "EAS    504\n",
      "SAS    489\n",
      "AJ     471\n",
      "EUR    404\n",
      "AMR    347\n",
      "AAC    157\n",
      "FIN     99\n",
      "Name: label, dtype: int64\n"
     ]
    }
   ],
   "source": [
    "# # combined_labels\n",
    "# labeled_pca = pca.merge(total_pruned_ref_df, how='left', on=['FID','IID'])\n",
    "# print(labeled_pca.label.value_counts())"
   ]
  },
  {
   "cell_type": "code",
   "execution_count": 32,
   "metadata": {},
   "outputs": [],
   "source": [
    "# # now plot PCs\n",
    "# fig = plt.figure(figsize = (8,8))\n",
    "# ax = fig.add_subplot(1,1,1) \n",
    "# ax.set_xlabel('Principal Component 1', fontsize = 15)\n",
    "# ax.set_ylabel('Principal Component 2', fontsize = 15)\n",
    "# ax.set_title('2 component PCA', fontsize = 20)\n",
    "# cmap = cm.get_cmap('tab10')\n",
    "# targets = list(labeled_pca.label.unique())\n",
    "# # targets = ['new', 'EUR']\n",
    "# colors = cmap(np.linspace(0, 1, len(targets)))\n",
    "# for target, color in zip(targets,colors):\n",
    "#     indicesToKeep = labeled_pca['label'] == target\n",
    "#     ax.scatter(labeled_pca.loc[indicesToKeep, 'pc1']\n",
    "#                , labeled_pca.loc[indicesToKeep, 'pc2']\n",
    "#                , c = color\n",
    "#                , s = 50)\n",
    "# ax.legend(targets)\n",
    "# ax.grid()"
   ]
  },
  {
   "cell_type": "code",
   "execution_count": null,
   "metadata": {},
   "outputs": [],
   "source": []
  },
  {
   "cell_type": "code",
   "execution_count": null,
   "metadata": {},
   "outputs": [],
   "source": []
  },
  {
   "cell_type": "code",
   "execution_count": null,
   "metadata": {},
   "outputs": [],
   "source": []
  },
  {
   "cell_type": "markdown",
   "metadata": {},
   "source": [
    "# FastStructure test with Ref Panel"
   ]
  },
  {
   "cell_type": "code",
   "execution_count": 35,
   "metadata": {},
   "outputs": [],
   "source": [
    "# Now, test with faststructure\n",
    "ancestry_labels = f'{ref_dir_path}/ref_panel_ancestry.txt'\n",
    "structure_out = f'{ref_panel_prune_final}'\n",
    "fam = pd.read_csv(f'{ref_panel_prune_final}.fam', sep=' ', header=None)\n",
    "structure = f'/data/vitaled2/ref_panel/fastStructure/structure.py'"
   ]
  },
  {
   "cell_type": "code",
   "execution_count": 40,
   "metadata": {},
   "outputs": [],
   "source": [
    "# now run for k=1-8 and use chooseK.py to select best\n",
    "with open(f'{ref_dir_path}/faststructure_choosek.swarm', 'w') as f:\n",
    "    for k in range(1,9):\n",
    "        fs_cmd = f'bash /data/vitaled2/GWAS/gwas/faststructure_setup_and_run.sh -i {ref_panel_prune_final} -o {structure_out} -f {structure} -k {k}'\n",
    "        f.write(f'{fs_cmd}\\n')\n",
    "    f.close()\n",
    "\n",
    "shell_do(f'swarm -f {ref_dir_path}/faststructure_choosek.swarm -g 16 --time=10:00:00 -t 20 --logdir {ref_dir_path}/swarm --partition=norm')\n",
    "#         shell_do(f'bash /data/vitaled2/GWAS/gwas/faststructure_setup_and_run.sh -i {ref_panel_10k_random_sample} -o {structure_out} -f {structure} -k {k}')"
   ]
  },
  {
   "cell_type": "code",
   "execution_count": 39,
   "metadata": {},
   "outputs": [
    {
     "name": "stdout",
     "output_type": "stream",
     "text": [
      "bash /data/vitaled2/GWAS/gwas/faststructure_choosek_setup_and_run.sh -i /data/LNG/vitaled2/1kgenomes/1kg_ashkj_ref_panel_gp2_pruned -f /data/vitaled2/ref_panel/fastStructure/chooseK.py\n"
     ]
    }
   ],
   "source": [
    "choosek = '/data/vitaled2/ref_panel/fastStructure/chooseK.py'\n",
    "print(f'bash /data/vitaled2/GWAS/gwas/faststructure_choosek_setup_and_run.sh -i {structure_out} -f {choosek}')"
   ]
  },
  {
   "cell_type": "code",
   "execution_count": 42,
   "metadata": {},
   "outputs": [],
   "source": [
    "# after fastStructure finishes running:\n",
    "# read Q file and create labels\n",
    "q_df = pd.read_csv(f'{structure_out}.8.meanQ', header=None, sep='\\s+')\n",
    "q_df.columns = [f'pop{i}' for i in range(1,9)]\n",
    "fam['highest_2_pops'] = q_df.apply(lambda s: s.abs().nlargest(2).index.tolist(), axis=1)\n",
    "fam['highest_pop'] = q_df.idxmax(axis=1)\n",
    "\n",
    "q_df['FID'], q_df['IID'], q_df['highest_pop'], q_df['highest_2_pops'] = fam[0], fam[1], fam['highest_pop'], fam['highest_2_pops']\n"
   ]
  },
  {
   "cell_type": "code",
   "execution_count": null,
   "metadata": {},
   "outputs": [],
   "source": []
  },
  {
   "cell_type": "code",
   "execution_count": 43,
   "metadata": {},
   "outputs": [
    {
     "name": "stdout",
     "output_type": "stream",
     "text": [
      "pop5    662\n",
      "pop6    594\n",
      "pop2    589\n",
      "pop8    504\n",
      "pop7    488\n",
      "pop1    138\n",
      "Name: highest_pop, dtype: int64\n"
     ]
    }
   ],
   "source": [
    "pop = pd.read_csv(ancestry_labels, sep='\\t')\n",
    "q_pop_merged = q_df.merge(pop, left_on=['FID','IID'], right_on=['FID','IID'])\n",
    "print(q_pop_merged['highest_pop'].value_counts())\n",
    "# q_pop_merged['label'].value_counts()\n",
    "q_pop_merged.to_csv(f'{ref_dir_path}/labeled_faststructure.txt', sep='\\t', header=True, index=False)\n"
   ]
  },
  {
   "cell_type": "code",
   "execution_count": 20,
   "metadata": {},
   "outputs": [
    {
     "data": {
      "text/plain": [
       "array(['AJ', 'EUR', 'FIN', 'EAS', 'AMR', 'SAS', 'AAC', 'AFR'],\n",
       "      dtype=object)"
      ]
     },
     "execution_count": 20,
     "metadata": {},
     "output_type": "execute_result"
    }
   ],
   "source": [
    "q_pop_merged.describe()\n",
    "q_pop_merged['label'].unique()"
   ]
  },
  {
   "cell_type": "code",
   "execution_count": 29,
   "metadata": {},
   "outputs": [
    {
     "data": {
      "text/html": [
       "<div>\n",
       "<style scoped>\n",
       "    .dataframe tbody tr th:only-of-type {\n",
       "        vertical-align: middle;\n",
       "    }\n",
       "\n",
       "    .dataframe tbody tr th {\n",
       "        vertical-align: top;\n",
       "    }\n",
       "\n",
       "    .dataframe thead th {\n",
       "        text-align: right;\n",
       "    }\n",
       "</style>\n",
       "<table border=\"1\" class=\"dataframe\">\n",
       "  <thead>\n",
       "    <tr style=\"text-align: right;\">\n",
       "      <th></th>\n",
       "      <th>pop1</th>\n",
       "      <th>pop2</th>\n",
       "      <th>pop3</th>\n",
       "      <th>pop4</th>\n",
       "      <th>pop5</th>\n",
       "      <th>pop6</th>\n",
       "      <th>pop7</th>\n",
       "      <th>pop8</th>\n",
       "    </tr>\n",
       "  </thead>\n",
       "  <tbody>\n",
       "    <tr>\n",
       "      <th>count</th>\n",
       "      <td>504.000000</td>\n",
       "      <td>5.040000e+02</td>\n",
       "      <td>504.000000</td>\n",
       "      <td>504.000000</td>\n",
       "      <td>504.000000</td>\n",
       "      <td>504.000000</td>\n",
       "      <td>5.040000e+02</td>\n",
       "      <td>504.000000</td>\n",
       "    </tr>\n",
       "    <tr>\n",
       "      <th>mean</th>\n",
       "      <td>0.000098</td>\n",
       "      <td>6.000000e-06</td>\n",
       "      <td>0.000619</td>\n",
       "      <td>0.000351</td>\n",
       "      <td>0.000287</td>\n",
       "      <td>0.000323</td>\n",
       "      <td>6.000000e-06</td>\n",
       "      <td>0.998307</td>\n",
       "    </tr>\n",
       "    <tr>\n",
       "      <th>std</th>\n",
       "      <td>0.001511</td>\n",
       "      <td>1.695749e-21</td>\n",
       "      <td>0.003803</td>\n",
       "      <td>0.002969</td>\n",
       "      <td>0.003094</td>\n",
       "      <td>0.003524</td>\n",
       "      <td>1.695749e-21</td>\n",
       "      <td>0.006746</td>\n",
       "    </tr>\n",
       "    <tr>\n",
       "      <th>min</th>\n",
       "      <td>0.000006</td>\n",
       "      <td>6.000000e-06</td>\n",
       "      <td>0.000006</td>\n",
       "      <td>0.000006</td>\n",
       "      <td>0.000006</td>\n",
       "      <td>0.000006</td>\n",
       "      <td>6.000000e-06</td>\n",
       "      <td>0.936400</td>\n",
       "    </tr>\n",
       "    <tr>\n",
       "      <th>25%</th>\n",
       "      <td>0.000006</td>\n",
       "      <td>6.000000e-06</td>\n",
       "      <td>0.000006</td>\n",
       "      <td>0.000006</td>\n",
       "      <td>0.000006</td>\n",
       "      <td>0.000006</td>\n",
       "      <td>6.000000e-06</td>\n",
       "      <td>0.999956</td>\n",
       "    </tr>\n",
       "    <tr>\n",
       "      <th>50%</th>\n",
       "      <td>0.000006</td>\n",
       "      <td>6.000000e-06</td>\n",
       "      <td>0.000006</td>\n",
       "      <td>0.000006</td>\n",
       "      <td>0.000006</td>\n",
       "      <td>0.000006</td>\n",
       "      <td>6.000000e-06</td>\n",
       "      <td>0.999956</td>\n",
       "    </tr>\n",
       "    <tr>\n",
       "      <th>75%</th>\n",
       "      <td>0.000006</td>\n",
       "      <td>6.000000e-06</td>\n",
       "      <td>0.000006</td>\n",
       "      <td>0.000006</td>\n",
       "      <td>0.000006</td>\n",
       "      <td>0.000006</td>\n",
       "      <td>6.000000e-06</td>\n",
       "      <td>0.999956</td>\n",
       "    </tr>\n",
       "    <tr>\n",
       "      <th>max</th>\n",
       "      <td>0.029150</td>\n",
       "      <td>6.000000e-06</td>\n",
       "      <td>0.041838</td>\n",
       "      <td>0.035115</td>\n",
       "      <td>0.047596</td>\n",
       "      <td>0.063563</td>\n",
       "      <td>6.000000e-06</td>\n",
       "      <td>0.999956</td>\n",
       "    </tr>\n",
       "  </tbody>\n",
       "</table>\n",
       "</div>"
      ],
      "text/plain": [
       "             pop1          pop2        pop3        pop4        pop5  \\\n",
       "count  504.000000  5.040000e+02  504.000000  504.000000  504.000000   \n",
       "mean     0.000098  6.000000e-06    0.000619    0.000351    0.000287   \n",
       "std      0.001511  1.695749e-21    0.003803    0.002969    0.003094   \n",
       "min      0.000006  6.000000e-06    0.000006    0.000006    0.000006   \n",
       "25%      0.000006  6.000000e-06    0.000006    0.000006    0.000006   \n",
       "50%      0.000006  6.000000e-06    0.000006    0.000006    0.000006   \n",
       "75%      0.000006  6.000000e-06    0.000006    0.000006    0.000006   \n",
       "max      0.029150  6.000000e-06    0.041838    0.035115    0.047596   \n",
       "\n",
       "             pop6          pop7        pop8  \n",
       "count  504.000000  5.040000e+02  504.000000  \n",
       "mean     0.000323  6.000000e-06    0.998307  \n",
       "std      0.003524  1.695749e-21    0.006746  \n",
       "min      0.000006  6.000000e-06    0.936400  \n",
       "25%      0.000006  6.000000e-06    0.999956  \n",
       "50%      0.000006  6.000000e-06    0.999956  \n",
       "75%      0.000006  6.000000e-06    0.999956  \n",
       "max      0.063563  6.000000e-06    0.999956  "
      ]
     },
     "execution_count": 29,
     "metadata": {},
     "output_type": "execute_result"
    }
   ],
   "source": [
    "q_pop_merged[q_pop_merged['label'] == 'AJ'].describe() # almost 100% pop6\n",
    "q_pop_merged[q_pop_merged['label'] == 'EUR'].describe() # 62% pop6 37% pop8\n",
    "q_pop_merged[q_pop_merged['label'] == 'FIN'].describe() # almost 89% pop8\n",
    "q_pop_merged[q_pop_merged['label'] == 'EAS'].describe() # almost 100% pop3\n",
    "q_pop_merged[q_pop_merged['label'] == 'AMR'].describe() # 40% pop6 42% pop4, 10% pop8, 4% pop7\n",
    "q_pop_merged[q_pop_merged['label'] == 'SAS'].describe() # 95% POP2\n",
    "q_pop_merged[q_pop_merged['label'] == 'AAC'].describe() # almost 90% POP7\n",
    "q_pop_merged[q_pop_merged['label'] == 'AFR'].describe() # almost 100% POP7"
   ]
  },
  {
   "cell_type": "markdown",
   "metadata": {},
   "source": [
    "# "
   ]
  },
  {
   "cell_type": "code",
   "execution_count": null,
   "metadata": {},
   "outputs": [],
   "source": [
    "#distruct run for visualization\n",
    "distruct_run = f'python /data/vitaled2/ref_panel/fastStructure/distruct.py\\\n",
    " -K 8\\\n",
    " --input={ref_panel_final_prune}_final_structure\\\n",
    " --output={ref_panel_final_prune}_distruct\\\n",
    " --popfile={ref_dir_path}/faststructure_labels.txt\\\n",
    " --title=\"GP2 Reference Panel Ancestries\"'\n",
    "\n",
    "print(distruct_run)\n"
   ]
  }
 ],
 "metadata": {
  "kernelspec": {
   "display_name": "Python 3",
   "language": "python",
   "name": "python3"
  },
  "language_info": {
   "codemirror_mode": {
    "name": "ipython",
    "version": 3
   },
   "file_extension": ".py",
   "mimetype": "text/x-python",
   "name": "python",
   "nbconvert_exporter": "python",
   "pygments_lexer": "ipython3",
   "version": "3.6.7"
  }
 },
 "nbformat": 4,
 "nbformat_minor": 4
}
